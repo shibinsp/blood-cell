{
  "cells": [
    {
      "cell_type": "markdown",
      "metadata": {
        "id": "view-in-github",
        "colab_type": "text"
      },
      "source": [
        "<a href=\"https://colab.research.google.com/github/shibinsp/blood-cell/blob/main/Cyber_Bullying_Detection_Using_Python.ipynb\" target=\"_parent\"><img src=\"https://colab.research.google.com/assets/colab-badge.svg\" alt=\"Open In Colab\"/></a>"
      ]
    },
    {
      "cell_type": "code",
      "execution_count": null,
      "id": "4609f336",
      "metadata": {
        "id": "4609f336"
      },
      "outputs": [],
      "source": [
        "import pandas as pd\n",
        "import numpy as np\n",
        "import matplotlib.pyplot as plt\n",
        "import seaborn as sns\n",
        "plt.style.use(\"ggplot\")\n",
        "\n",
        "import re\n",
        "import nltk\n",
        "\n",
        "from sklearn.feature_extraction.text import TfidfVectorizer, TfidfTransformer, CountVectorizer\n",
        "from nltk import sent_tokenize, word_tokenize\n",
        "from sklearn.metrics import f1_score, accuracy_score, precision_score, recall_score, make_scorer\n",
        "\n",
        "from time import time\n",
        "import pickle"
      ]
    },
    {
      "cell_type": "code",
      "execution_count": null,
      "id": "08f24293",
      "metadata": {
        "id": "08f24293"
      },
      "outputs": [],
      "source": [
        "df = pd.read_csv(\"dataset.csv\")"
      ]
    },
    {
      "cell_type": "code",
      "execution_count": null,
      "id": "cb8081f9",
      "metadata": {
        "id": "cb8081f9",
        "outputId": "af300987-e301-4211-c540-881360d64ec2"
      },
      "outputs": [
        {
          "data": {
            "text/html": [
              "<div>\n",
              "<style scoped>\n",
              "    .dataframe tbody tr th:only-of-type {\n",
              "        vertical-align: middle;\n",
              "    }\n",
              "\n",
              "    .dataframe tbody tr th {\n",
              "        vertical-align: top;\n",
              "    }\n",
              "\n",
              "    .dataframe thead th {\n",
              "        text-align: right;\n",
              "    }\n",
              "</style>\n",
              "<table border=\"1\" class=\"dataframe\">\n",
              "  <thead>\n",
              "    <tr style=\"text-align: right;\">\n",
              "      <th></th>\n",
              "      <th>headline</th>\n",
              "      <th>label</th>\n",
              "    </tr>\n",
              "  </thead>\n",
              "  <tbody>\n",
              "    <tr>\n",
              "      <th>0</th>\n",
              "      <td>cock  suck before you piss around on my work</td>\n",
              "      <td>-1</td>\n",
              "    </tr>\n",
              "    <tr>\n",
              "      <th>1</th>\n",
              "      <td>you are  gay or antisemmitian archangel white ...</td>\n",
              "      <td>-1</td>\n",
              "    </tr>\n",
              "    <tr>\n",
              "      <th>2</th>\n",
              "      <td>fuck your filthy mother in the ass  dry</td>\n",
              "      <td>-1</td>\n",
              "    </tr>\n",
              "    <tr>\n",
              "      <th>3</th>\n",
              "      <td>get fuck  ed up  get fuck  ed up got a drink t...</td>\n",
              "      <td>-1</td>\n",
              "    </tr>\n",
              "    <tr>\n",
              "      <th>4</th>\n",
              "      <td>stupid peace of  shit  stop deleting my stuff ...</td>\n",
              "      <td>-1</td>\n",
              "    </tr>\n",
              "  </tbody>\n",
              "</table>\n",
              "</div>"
            ],
            "text/plain": [
              "                                            headline  label\n",
              "0       cock  suck before you piss around on my work     -1\n",
              "1  you are  gay or antisemmitian archangel white ...     -1\n",
              "2            fuck your filthy mother in the ass  dry     -1\n",
              "3  get fuck  ed up  get fuck  ed up got a drink t...     -1\n",
              "4  stupid peace of  shit  stop deleting my stuff ...     -1"
            ]
          },
          "execution_count": 3,
          "metadata": {},
          "output_type": "execute_result"
        }
      ],
      "source": [
        "df.head()"
      ]
    },
    {
      "cell_type": "code",
      "execution_count": null,
      "id": "ea111c8f",
      "metadata": {
        "id": "ea111c8f",
        "outputId": "27e91260-a143-48f0-e7ba-e05a20b80727"
      },
      "outputs": [
        {
          "data": {
            "text/plain": [
              "array([-1,  0], dtype=int64)"
            ]
          },
          "execution_count": 4,
          "metadata": {},
          "output_type": "execute_result"
        }
      ],
      "source": [
        "df['label'].unique()"
      ]
    },
    {
      "cell_type": "markdown",
      "id": "2b2e0551",
      "metadata": {
        "id": "2b2e0551"
      },
      "source": [
        "Dataframe manipulation"
      ]
    },
    {
      "cell_type": "code",
      "execution_count": null,
      "id": "a408689b",
      "metadata": {
        "id": "a408689b"
      },
      "outputs": [],
      "source": [
        "def perform_data_manipulation():\n",
        "    df = pd.read_csv(\"dataset.csv\")\n",
        "\n",
        "    for index in df.index:\n",
        "        if df.loc[index, \"label\"]==-1:\n",
        "            df.loc[index, \"label\"] = 1\n",
        "    return df"
      ]
    },
    {
      "cell_type": "code",
      "execution_count": null,
      "id": "000a476d",
      "metadata": {
        "id": "000a476d"
      },
      "outputs": [],
      "source": [
        "df = perform_data_manipulation()"
      ]
    },
    {
      "cell_type": "code",
      "execution_count": null,
      "id": "67925c0f",
      "metadata": {
        "id": "67925c0f",
        "outputId": "7cc9e480-cc9e-44d1-8f8f-72e5485de2d9"
      },
      "outputs": [
        {
          "data": {
            "text/html": [
              "<div>\n",
              "<style scoped>\n",
              "    .dataframe tbody tr th:only-of-type {\n",
              "        vertical-align: middle;\n",
              "    }\n",
              "\n",
              "    .dataframe tbody tr th {\n",
              "        vertical-align: top;\n",
              "    }\n",
              "\n",
              "    .dataframe thead th {\n",
              "        text-align: right;\n",
              "    }\n",
              "</style>\n",
              "<table border=\"1\" class=\"dataframe\">\n",
              "  <thead>\n",
              "    <tr style=\"text-align: right;\">\n",
              "      <th></th>\n",
              "      <th>headline</th>\n",
              "      <th>label</th>\n",
              "    </tr>\n",
              "  </thead>\n",
              "  <tbody>\n",
              "    <tr>\n",
              "      <th>0</th>\n",
              "      <td>cock  suck before you piss around on my work</td>\n",
              "      <td>1</td>\n",
              "    </tr>\n",
              "    <tr>\n",
              "      <th>1</th>\n",
              "      <td>you are  gay or antisemmitian archangel white ...</td>\n",
              "      <td>1</td>\n",
              "    </tr>\n",
              "    <tr>\n",
              "      <th>2</th>\n",
              "      <td>fuck your filthy mother in the ass  dry</td>\n",
              "      <td>1</td>\n",
              "    </tr>\n",
              "    <tr>\n",
              "      <th>3</th>\n",
              "      <td>get fuck  ed up  get fuck  ed up got a drink t...</td>\n",
              "      <td>1</td>\n",
              "    </tr>\n",
              "    <tr>\n",
              "      <th>4</th>\n",
              "      <td>stupid peace of  shit  stop deleting my stuff ...</td>\n",
              "      <td>1</td>\n",
              "    </tr>\n",
              "  </tbody>\n",
              "</table>\n",
              "</div>"
            ],
            "text/plain": [
              "                                            headline  label\n",
              "0       cock  suck before you piss around on my work      1\n",
              "1  you are  gay or antisemmitian archangel white ...      1\n",
              "2            fuck your filthy mother in the ass  dry      1\n",
              "3  get fuck  ed up  get fuck  ed up got a drink t...      1\n",
              "4  stupid peace of  shit  stop deleting my stuff ...      1"
            ]
          },
          "execution_count": 7,
          "metadata": {},
          "output_type": "execute_result"
        }
      ],
      "source": [
        "df.head()"
      ]
    },
    {
      "cell_type": "code",
      "execution_count": null,
      "id": "2c9d6fd1",
      "metadata": {
        "id": "2c9d6fd1",
        "outputId": "250cb3a8-061b-41db-a681-cdc613423bbb"
      },
      "outputs": [
        {
          "data": {
            "text/plain": [
              "array([1, 0], dtype=int64)"
            ]
          },
          "execution_count": 8,
          "metadata": {},
          "output_type": "execute_result"
        }
      ],
      "source": [
        "df['label'].unique()"
      ]
    },
    {
      "cell_type": "code",
      "execution_count": null,
      "id": "8f7f838f",
      "metadata": {
        "id": "8f7f838f",
        "outputId": "d7b46d77-cea2-46e6-c754-e0baf24bb59e"
      },
      "outputs": [
        {
          "data": {
            "text/plain": [
              "18148"
            ]
          },
          "execution_count": 9,
          "metadata": {},
          "output_type": "execute_result"
        }
      ],
      "source": [
        "df.shape[0]"
      ]
    },
    {
      "cell_type": "markdown",
      "id": "c047534f",
      "metadata": {
        "id": "c047534f"
      },
      "source": [
        "Classification using Pie Chart"
      ]
    },
    {
      "cell_type": "code",
      "execution_count": null,
      "id": "01855e47",
      "metadata": {
        "id": "01855e47"
      },
      "outputs": [],
      "source": [
        "def performdatadistribution(df):\n",
        "    total = df.shape[0]\n",
        "    num_non_toxic = df[df['label']==0].shape[0]\n",
        "\n",
        "    slices = [num_non_toxic/total, (total-num_non_toxic)/total]\n",
        "\n",
        "    labeling = ['Non-Toxic', 'Toxic']\n",
        "\n",
        "    explode = [0.2, 0]\n",
        "\n",
        "    plt.pie(slices, explode = explode, shadow=True, autopct=\"%1.1f%%\", labels = labeling, wedgeprops={'edgecolor': 'black'})\n",
        "\n",
        "    plt.title('Number of Toxic Vs Non- Toxic Test Sample')\n",
        "\n",
        "    plt.tight_layout()\n",
        "\n",
        "    plt.show()"
      ]
    },
    {
      "cell_type": "code",
      "execution_count": null,
      "id": "7cb189a0",
      "metadata": {
        "id": "7cb189a0",
        "outputId": "c57ab16c-13f1-46cb-9330-483fe77d448f"
      },
      "outputs": [
        {
          "data": {
            "image/png": "[encoded data removed]",
            "text/plain": [
              "<Figure size 640x480 with 1 Axes>"
            ]
          },
          "metadata": {},
          "output_type": "display_data"
        }
      ],
      "source": [
        "performdatadistribution(df)"
      ]
    },
    {
      "cell_type": "code",
      "execution_count": null,
      "id": "0fd2d056",
      "metadata": {
        "id": "0fd2d056"
      },
      "outputs": [],
      "source": [
        "def remove_pattern(input_txt, pattern):\n",
        "    if (type(input_txt)==str):\n",
        "        r = re.findall(pattern, input_txt)\n",
        "        for i in r:\n",
        "            input_txt = re.sub(i, '', input_txt)\n",
        "        return input_txt\n",
        "    else:\n",
        "        return \"\""
      ]
    },
    {
      "cell_type": "code",
      "execution_count": null,
      "id": "fc04ee7f",
      "metadata": {
        "id": "fc04ee7f",
        "outputId": "2c3f7a2b-8a45-4165-95a3-412e5aef9631"
      },
      "outputs": [
        {
          "data": {
            "text/html": [
              "<div>\n",
              "<style scoped>\n",
              "    .dataframe tbody tr th:only-of-type {\n",
              "        vertical-align: middle;\n",
              "    }\n",
              "\n",
              "    .dataframe tbody tr th {\n",
              "        vertical-align: top;\n",
              "    }\n",
              "\n",
              "    .dataframe thead th {\n",
              "        text-align: right;\n",
              "    }\n",
              "</style>\n",
              "<table border=\"1\" class=\"dataframe\">\n",
              "  <thead>\n",
              "    <tr style=\"text-align: right;\">\n",
              "      <th></th>\n",
              "      <th>headline</th>\n",
              "      <th>label</th>\n",
              "    </tr>\n",
              "  </thead>\n",
              "  <tbody>\n",
              "    <tr>\n",
              "      <th>0</th>\n",
              "      <td>cock  suck before you piss around on my work</td>\n",
              "      <td>1</td>\n",
              "    </tr>\n",
              "  </tbody>\n",
              "</table>\n",
              "</div>"
            ],
            "text/plain": [
              "                                       headline  label\n",
              "0  cock  suck before you piss around on my work      1"
            ]
          },
          "execution_count": 13,
          "metadata": {},
          "output_type": "execute_result"
        }
      ],
      "source": [
        "df.head(1)"
      ]
    },
    {
      "cell_type": "code",
      "execution_count": null,
      "id": "4b12c5ec",
      "metadata": {
        "id": "4b12c5ec",
        "outputId": "d64b369f-8d98-4f2d-acd6-c956e0b7a53f"
      },
      "outputs": [
        {
          "name": "stderr",
          "output_type": "stream",
          "text": [
            "[nltk_data] Downloading package omw-1.4 to\n",
            "[nltk_data]     C:\\Users\\WELCOME\\AppData\\Roaming\\nltk_data...\n",
            "[nltk_data]   Package omw-1.4 is already up-to-date!\n",
            "[nltk_data] Downloading package wordnet to\n",
            "[nltk_data]     C:\\Users\\WELCOME\\AppData\\Roaming\\nltk_data...\n",
            "[nltk_data]   Package wordnet is already up-to-date!\n"
          ]
        }
      ],
      "source": [
        "import nltk\n",
        "nltk.download('omw-1.4')\n",
        "nltk.download('wordnet')\n",
        "\n",
        "\n",
        "def datasetCleaning(df):\n",
        "    df['length_headline'] = df['headline'].str.len()\n",
        "    combined_df = pd.concat([df, df], ignore_index=True)\n",
        "#     remove @ user\n",
        "    combined_df['tidy_tweet'] = np.vectorize(remove_pattern)(combined_df['headline'], \"@[\\w]*\")\n",
        "\n",
        "#     remove extra letters\n",
        "    combined_df['tidy_tweet'] = combined_df['tidy_tweet'].str.replace(\"[^a-zA-Z#]\", \" \")\n",
        "\n",
        "#     remove all those words with size less than 3\n",
        "    combined_df['tidy_tweet'] = combined_df['tidy_tweet'].apply(lambda x : ' '.join([w for w in x.split() if len(w)>3]))\n",
        "\n",
        "    combined_df['length_tidy_tweet'] = combined_df['tidy_tweet'].str.len()\n",
        "\n",
        "#     Tokenized\n",
        "    tokenized_tweet = combined_df['tidy_tweet'].apply(lambda x : x.split())\n",
        "\n",
        "    nltk.download('wordnet')\n",
        "\n",
        "    lemmatizer = nltk.stem.WordNetLemmatizer()\n",
        "\n",
        "    tokenized_tweet = tokenized_tweet.apply(lambda x :[lemmatizer.lemmatize(i) for i in x])\n",
        "\n",
        "    for i in range(len(tokenized_tweet)):\n",
        "        tokenized_tweet[i] = ' '.join(tokenized_tweet[i])\n",
        "    combined_df['tidy_tweet'] = tokenized_tweet\n",
        "\n",
        "    return combined_df, df\n"
      ]
    },
    {
      "cell_type": "code",
      "execution_count": null,
      "id": "307e72a5",
      "metadata": {
        "id": "307e72a5",
        "outputId": "ae88346d-3fb8-4d3d-f6ee-bda8e3cf7686"
      },
      "outputs": [
        {
          "name": "stderr",
          "output_type": "stream",
          "text": [
            "[nltk_data] Downloading package wordnet to\n",
            "[nltk_data]     C:\\Users\\WELCOME\\AppData\\Roaming\\nltk_data...\n",
            "[nltk_data]   Package wordnet is already up-to-date!\n"
          ]
        }
      ],
      "source": [
        "combined_df, df =datasetCleaning(df)"
      ]
    },
    {
      "cell_type": "code",
      "execution_count": null,
      "id": "7dc1347a",
      "metadata": {
        "id": "7dc1347a",
        "outputId": "fc1fcb91-db94-4df3-e0fe-3e68da52c85f"
      },
      "outputs": [
        {
          "data": {
            "text/html": [
              "<div>\n",
              "<style scoped>\n",
              "    .dataframe tbody tr th:only-of-type {\n",
              "        vertical-align: middle;\n",
              "    }\n",
              "\n",
              "    .dataframe tbody tr th {\n",
              "        vertical-align: top;\n",
              "    }\n",
              "\n",
              "    .dataframe thead th {\n",
              "        text-align: right;\n",
              "    }\n",
              "</style>\n",
              "<table border=\"1\" class=\"dataframe\">\n",
              "  <thead>\n",
              "    <tr style=\"text-align: right;\">\n",
              "      <th></th>\n",
              "      <th>headline</th>\n",
              "      <th>label</th>\n",
              "      <th>length_headline</th>\n",
              "      <th>tidy_tweet</th>\n",
              "      <th>length_tidy_tweet</th>\n",
              "    </tr>\n",
              "  </thead>\n",
              "  <tbody>\n",
              "    <tr>\n",
              "      <th>0</th>\n",
              "      <td>cock  suck before you piss around on my work</td>\n",
              "      <td>1</td>\n",
              "      <td>44</td>\n",
              "      <td>cock suck before piss around work</td>\n",
              "      <td>33</td>\n",
              "    </tr>\n",
              "    <tr>\n",
              "      <th>1</th>\n",
              "      <td>you are  gay or antisemmitian archangel white ...</td>\n",
              "      <td>1</td>\n",
              "      <td>624</td>\n",
              "      <td>antisemmitian archangel white tiger meow greet...</td>\n",
              "      <td>400</td>\n",
              "    </tr>\n",
              "    <tr>\n",
              "      <th>2</th>\n",
              "      <td>fuck your filthy mother in the ass  dry</td>\n",
              "      <td>1</td>\n",
              "      <td>39</td>\n",
              "      <td>fuck your filthy mother</td>\n",
              "      <td>23</td>\n",
              "    </tr>\n",
              "    <tr>\n",
              "      <th>3</th>\n",
              "      <td>get fuck  ed up  get fuck  ed up got a drink t...</td>\n",
              "      <td>1</td>\n",
              "      <td>121</td>\n",
              "      <td>fuck fuck drink that cant down fuck fuck fuck ...</td>\n",
              "      <td>51</td>\n",
              "    </tr>\n",
              "    <tr>\n",
              "      <th>4</th>\n",
              "      <td>stupid peace of  shit  stop deleting my stuff ...</td>\n",
              "      <td>1</td>\n",
              "      <td>93</td>\n",
              "      <td>stupid peace shit stop deleting stuff hole fal...</td>\n",
              "      <td>57</td>\n",
              "    </tr>\n",
              "  </tbody>\n",
              "</table>\n",
              "</div>"
            ],
            "text/plain": [
              "                                            headline  label  length_headline  \\\n",
              "0       cock  suck before you piss around on my work      1               44   \n",
              "1  you are  gay or antisemmitian archangel white ...      1              624   \n",
              "2            fuck your filthy mother in the ass  dry      1               39   \n",
              "3  get fuck  ed up  get fuck  ed up got a drink t...      1              121   \n",
              "4  stupid peace of  shit  stop deleting my stuff ...      1               93   \n",
              "\n",
              "                                          tidy_tweet  length_tidy_tweet  \n",
              "0                  cock suck before piss around work                 33  \n",
              "1  antisemmitian archangel white tiger meow greet...                400  \n",
              "2                            fuck your filthy mother                 23  \n",
              "3  fuck fuck drink that cant down fuck fuck fuck ...                 51  \n",
              "4  stupid peace shit stop deleting stuff hole fal...                 57  "
            ]
          },
          "execution_count": 18,
          "metadata": {},
          "output_type": "execute_result"
        }
      ],
      "source": [
        "combined_df.head()"
      ]
    },
    {
      "cell_type": "markdown",
      "id": "47e01d67",
      "metadata": {
        "id": "47e01d67"
      },
      "source": [
        "Dataset Splitting"
      ]
    },
    {
      "cell_type": "code",
      "execution_count": null,
      "id": "4df9b909",
      "metadata": {
        "id": "4df9b909"
      },
      "outputs": [],
      "source": [
        "from sklearn.model_selection import train_test_split"
      ]
    },
    {
      "cell_type": "code",
      "execution_count": null,
      "id": "ced1275e",
      "metadata": {
        "id": "ced1275e"
      },
      "outputs": [],
      "source": [
        "def performdatasplit(x, y, combined_df, df):\n",
        "    X_train, X_test, y_train, y_test = train_test_split(combined_df['tidy_tweet'], combined_df['label'], test_size = x, random_state = y)\n",
        "    print(f\"Number of rows in the total dataset: {combined_df.shape[0]}\")\n",
        "    print(f\"Number of rows in the train dataset: {X_train.shape[0]}\")\n",
        "    print(f\"Number of rows in the test dataset: {X_test.shape[0]}\")\n",
        "\n",
        "    files = open(\"stopwords.txt\" , \"r\")\n",
        "    content = files.read()\n",
        "    content_list = content.split(\"\\n\")\n",
        "    files.close()\n",
        "\n",
        "    tfidfvector = TfidfVectorizer(stop_words=content_list, lowercase=True)\n",
        "\n",
        "    training_data = tfidfvector.fit_transform(X_train.values.astype('U'))\n",
        "\n",
        "    testing_data = tfidfvector.transform(X_test.values.astype('U'))\n",
        "\n",
        "    filename = 'tfidfvectoizer.pkl'\n",
        "\n",
        "    pickle.dump(tfidfvector.vocabulary_, open(filename, 'wb'))\n",
        "\n",
        "    return X_train , X_test, y_train, y_test, testing_data, filename, training_data, content_list"
      ]
    },
    {
      "cell_type": "code",
      "execution_count": null,
      "id": "f2cd26ca",
      "metadata": {
        "id": "f2cd26ca",
        "outputId": "e3a76b90-d337-471b-a533-0145094e0504"
      },
      "outputs": [
        {
          "name": "stdout",
          "output_type": "stream",
          "text": [
            "Number of rows in the total dataset: 36296\n",
            "Number of rows in the train dataset: 29036\n",
            "Number of rows in the test dataset: 7260\n"
          ]
        },
        {
          "name": "stderr",
          "output_type": "stream",
          "text": [
            "c:\\Users\\WELCOME\\AppData\\Local\\Programs\\Python\\Python310\\lib\\site-packages\\sklearn\\feature_extraction\\text.py:408: UserWarning: Your stop_words may be inconsistent with your preprocessing. Tokenizing the stop words generated tokens ['ninad'] not in stop_words.\n",
            "  warnings.warn(\n"
          ]
        }
      ],
      "source": [
        "X_train , X_test, y_train, y_test, testing_data, filename, training_data, content_list = performdatasplit(0.2, 42, combined_df, df)"
      ]
    },
    {
      "cell_type": "markdown",
      "id": "a065527d",
      "metadata": {
        "id": "a065527d"
      },
      "source": [
        "Apply Machine Learning Algorithm"
      ]
    },
    {
      "cell_type": "code",
      "execution_count": null,
      "id": "6f964589",
      "metadata": {
        "id": "6f964589"
      },
      "outputs": [],
      "source": [
        "import xgboost as xgb\n",
        "from sklearn.naive_bayes import MultinomialNB\n",
        "from sklearn.tree import DecisionTreeClassifier\n",
        "from sklearn.svm import LinearSVC\n",
        "from sklearn.ensemble import AdaBoostClassifier, RandomForestClassifier, BaggingClassifier\n",
        "from sklearn.linear_model import LogisticRegression, SGDClassifier\n",
        "from sklearn.neighbors import KNeighborsClassifier"
      ]
    },
    {
      "cell_type": "code",
      "execution_count": null,
      "id": "fed5a4f6",
      "metadata": {
        "id": "fed5a4f6"
      },
      "outputs": [],
      "source": [
        "def pipeline(X_train, y_train, X_test, y_test):\n",
        "    MODELS = [LinearSVC(), LogisticRegression(), MultinomialNB(), DecisionTreeClassifier(),\n",
        "              AdaBoostClassifier(), BaggingClassifier(), SGDClassifier()]\n",
        "\n",
        "    size = len(y_train)\n",
        "\n",
        "    results = {}\n",
        "\n",
        "    final_result = []\n",
        "\n",
        "    for model in MODELS:\n",
        "        results['Algorithm'] = model.__class__.__name__\n",
        "\n",
        "        start = time()\n",
        "        print(f\"Training Time : {model.__class__.__name__}\")\n",
        "        model.fit(X_train, y_train)\n",
        "        end = time()\n",
        "\n",
        "        filename = model.__class__.__name__+\".pkl\"\n",
        "        pickle.dump(model, open(filename, \"wb\"))\n",
        "\n",
        "        results['Training Time'] = end - start\n",
        "\n",
        "        start = time()\n",
        "        prediction_test = model.predict(X_test)\n",
        "        prediction_train = model.predict(X_train)\n",
        "        end = time()\n",
        "\n",
        "        results['Prediction Time'] = end - start\n",
        "\n",
        "        results['Accuracy : Test'] = accuracy_score(y_test, prediction_test)\n",
        "        results['Accuracy : Train'] = accuracy_score(y_train, prediction_train)\n",
        "\n",
        "        results['F1 Score : Test'] = f1_score(y_test, prediction_test)\n",
        "        results['F1 Score : Train'] = f1_score(y_train, prediction_train)\n",
        "\n",
        "        results['Precision : Test'] = precision_score(y_test, prediction_test)\n",
        "        results['Precision : Train'] = precision_score(y_train, prediction_train)\n",
        "\n",
        "        results['Recall : Test'] = recall_score(y_test, prediction_test)\n",
        "        results['Recall : Train'] = recall_score(y_train, prediction_train)\n",
        "\n",
        "        print(f\"Training {model.__class__.__name__} finished in {results['Training Time']} sec\")\n",
        "\n",
        "        final_result.append(results.copy())\n",
        "    return final_result\n",
        ""
      ]
    },
    {
      "cell_type": "code",
      "execution_count": null,
      "id": "46ba8522",
      "metadata": {
        "id": "46ba8522",
        "outputId": "a0dc91cb-a8cf-4146-9769-dd539611ca01"
      },
      "outputs": [
        {
          "name": "stdout",
          "output_type": "stream",
          "text": [
            "Training Time : LinearSVC\n",
            "Training LinearSVC finished in 0.0671229362487793 sec\n",
            "Training Time : LogisticRegression\n"
          ]
        },
        {
          "name": "stderr",
          "output_type": "stream",
          "text": [
            "c:\\Users\\WELCOME\\AppData\\Local\\Programs\\Python\\Python310\\lib\\site-packages\\sklearn\\svm\\_classes.py:31: FutureWarning: The default value of `dual` will change from `True` to `'auto'` in 1.5. Set the value of `dual` explicitly to suppress the warning.\n",
            "  warnings.warn(\n"
          ]
        },
        {
          "name": "stdout",
          "output_type": "stream",
          "text": [
            "Training LogisticRegression finished in 0.26789426803588867 sec\n",
            "Training Time : MultinomialNB\n",
            "Training MultinomialNB finished in 0.005004167556762695 sec\n",
            "Training Time : DecisionTreeClassifier\n",
            "Training DecisionTreeClassifier finished in 3.868921995162964 sec\n",
            "Training Time : AdaBoostClassifier\n"
          ]
        },
        {
          "name": "stderr",
          "output_type": "stream",
          "text": [
            "c:\\Users\\WELCOME\\AppData\\Local\\Programs\\Python\\Python310\\lib\\site-packages\\sklearn\\ensemble\\_weight_boosting.py:519: FutureWarning: The SAMME.R algorithm (the default) is deprecated and will be removed in 1.6. Use the SAMME algorithm to circumvent this warning.\n",
            "  warnings.warn(\n"
          ]
        },
        {
          "name": "stdout",
          "output_type": "stream",
          "text": [
            "Training AdaBoostClassifier finished in 2.7961034774780273 sec\n",
            "Training Time : BaggingClassifier\n",
            "Training BaggingClassifier finished in 35.57639408111572 sec\n",
            "Training Time : SGDClassifier\n",
            "Training SGDClassifier finished in 0.03309202194213867 sec\n"
          ]
        }
      ],
      "source": [
        "final_result = pipeline(training_data, y_train, testing_data, y_test)"
      ]
    },
    {
      "cell_type": "code",
      "execution_count": null,
      "id": "2131d7df",
      "metadata": {
        "id": "2131d7df"
      },
      "outputs": [],
      "source": [
        "def performfinalresult(final_results):\n",
        "    results = pd.DataFrame(final_results)\n",
        "    results.reindex(columns = ['Algorithm', 'Accuracy : Test', 'Precision : Test', 'Recall : Test', 'F1 Score : Test', 'Prediction Time',\n",
        "                          'Accuracy : Train', 'Precision : Train', 'Recall : Train', 'F1 Score : Train', 'Training Time'])\n",
        "    results.sort_values(by = 'F1 Score : Test', inplace=True, ascending=False)\n",
        "\n",
        "    return results"
      ]
    },
    {
      "cell_type": "code",
      "execution_count": null,
      "id": "5bf8d085",
      "metadata": {
        "id": "5bf8d085",
        "outputId": "d9fad291-4031-4972-8999-44ec8a994088"
      },
      "outputs": [
        {
          "data": {
            "text/html": [
              "<div>\n",
              "<style scoped>\n",
              "    .dataframe tbody tr th:only-of-type {\n",
              "        vertical-align: middle;\n",
              "    }\n",
              "\n",
              "    .dataframe tbody tr th {\n",
              "        vertical-align: top;\n",
              "    }\n",
              "\n",
              "    .dataframe thead th {\n",
              "        text-align: right;\n",
              "    }\n",
              "</style>\n",
              "<table border=\"1\" class=\"dataframe\">\n",
              "  <thead>\n",
              "    <tr style=\"text-align: right;\">\n",
              "      <th></th>\n",
              "      <th>Algorithm</th>\n",
              "      <th>Training Time</th>\n",
              "      <th>Prediction Time</th>\n",
              "      <th>Accuracy : Test</th>\n",
              "      <th>Accuracy : Train</th>\n",
              "      <th>F1 Score : Test</th>\n",
              "      <th>F1 Score : Train</th>\n",
              "      <th>Precision : Test</th>\n",
              "      <th>Precision : Train</th>\n",
              "      <th>Recall : Test</th>\n",
              "      <th>Recall : Train</th>\n",
              "    </tr>\n",
              "  </thead>\n",
              "  <tbody>\n",
              "    <tr>\n",
              "      <th>0</th>\n",
              "      <td>DecisionTreeClassifier</td>\n",
              "      <td>3.868922</td>\n",
              "      <td>0.020167</td>\n",
              "      <td>0.973829</td>\n",
              "      <td>0.996832</td>\n",
              "      <td>0.979915</td>\n",
              "      <td>0.997534</td>\n",
              "      <td>0.972310</td>\n",
              "      <td>0.996146</td>\n",
              "      <td>0.987641</td>\n",
              "      <td>0.998926</td>\n",
              "    </tr>\n",
              "    <tr>\n",
              "      <th>1</th>\n",
              "      <td>BaggingClassifier</td>\n",
              "      <td>35.576394</td>\n",
              "      <td>0.246850</td>\n",
              "      <td>0.969284</td>\n",
              "      <td>0.995144</td>\n",
              "      <td>0.976289</td>\n",
              "      <td>0.996219</td>\n",
              "      <td>0.974321</td>\n",
              "      <td>0.995338</td>\n",
              "      <td>0.978266</td>\n",
              "      <td>0.997101</td>\n",
              "    </tr>\n",
              "    <tr>\n",
              "      <th>2</th>\n",
              "      <td>LinearSVC</td>\n",
              "      <td>0.067123</td>\n",
              "      <td>0.001511</td>\n",
              "      <td>0.964463</td>\n",
              "      <td>0.989048</td>\n",
              "      <td>0.972483</td>\n",
              "      <td>0.991459</td>\n",
              "      <td>0.973521</td>\n",
              "      <td>0.992152</td>\n",
              "      <td>0.971447</td>\n",
              "      <td>0.990767</td>\n",
              "    </tr>\n",
              "    <tr>\n",
              "      <th>3</th>\n",
              "      <td>LogisticRegression</td>\n",
              "      <td>0.267894</td>\n",
              "      <td>0.002013</td>\n",
              "      <td>0.937328</td>\n",
              "      <td>0.961737</td>\n",
              "      <td>0.951280</td>\n",
              "      <td>0.970108</td>\n",
              "      <td>0.956091</td>\n",
              "      <td>0.972489</td>\n",
              "      <td>0.946516</td>\n",
              "      <td>0.967738</td>\n",
              "    </tr>\n",
              "    <tr>\n",
              "      <th>4</th>\n",
              "      <td>SGDClassifier</td>\n",
              "      <td>0.033092</td>\n",
              "      <td>0.002001</td>\n",
              "      <td>0.936364</td>\n",
              "      <td>0.958052</td>\n",
              "      <td>0.950269</td>\n",
              "      <td>0.967108</td>\n",
              "      <td>0.960191</td>\n",
              "      <td>0.973099</td>\n",
              "      <td>0.940550</td>\n",
              "      <td>0.961190</td>\n",
              "    </tr>\n",
              "    <tr>\n",
              "      <th>5</th>\n",
              "      <td>MultinomialNB</td>\n",
              "      <td>0.005004</td>\n",
              "      <td>0.002004</td>\n",
              "      <td>0.899174</td>\n",
              "      <td>0.927676</td>\n",
              "      <td>0.925428</td>\n",
              "      <td>0.945438</td>\n",
              "      <td>0.886590</td>\n",
              "      <td>0.916159</td>\n",
              "      <td>0.967824</td>\n",
              "      <td>0.976649</td>\n",
              "    </tr>\n",
              "    <tr>\n",
              "      <th>6</th>\n",
              "      <td>AdaBoostClassifier</td>\n",
              "      <td>2.796103</td>\n",
              "      <td>0.516163</td>\n",
              "      <td>0.840909</td>\n",
              "      <td>0.841955</td>\n",
              "      <td>0.863749</td>\n",
              "      <td>0.863402</td>\n",
              "      <td>0.967495</td>\n",
              "      <td>0.969063</td>\n",
              "      <td>0.780098</td>\n",
              "      <td>0.778517</td>\n",
              "    </tr>\n",
              "  </tbody>\n",
              "</table>\n",
              "</div>"
            ],
            "text/plain": [
              "                Algorithm  Training Time  Prediction Time  Accuracy : Test  \\\n",
              "0  DecisionTreeClassifier       3.868922         0.020167         0.973829   \n",
              "1       BaggingClassifier      35.576394         0.246850         0.969284   \n",
              "2               LinearSVC       0.067123         0.001511         0.964463   \n",
              "3      LogisticRegression       0.267894         0.002013         0.937328   \n",
              "4           SGDClassifier       0.033092         0.002001         0.936364   \n",
              "5           MultinomialNB       0.005004         0.002004         0.899174   \n",
              "6      AdaBoostClassifier       2.796103         0.516163         0.840909   \n",
              "\n",
              "   Accuracy : Train  F1 Score : Test  F1 Score : Train  Precision : Test  \\\n",
              "0          0.996832         0.979915          0.997534          0.972310   \n",
              "1          0.995144         0.976289          0.996219          0.974321   \n",
              "2          0.989048         0.972483          0.991459          0.973521   \n",
              "3          0.961737         0.951280          0.970108          0.956091   \n",
              "4          0.958052         0.950269          0.967108          0.960191   \n",
              "5          0.927676         0.925428          0.945438          0.886590   \n",
              "6          0.841955         0.863749          0.863402          0.967495   \n",
              "\n",
              "   Precision : Train  Recall : Test  Recall : Train  \n",
              "0           0.996146       0.987641        0.998926  \n",
              "1           0.995338       0.978266        0.997101  \n",
              "2           0.992152       0.971447        0.990767  \n",
              "3           0.972489       0.946516        0.967738  \n",
              "4           0.973099       0.940550        0.961190  \n",
              "5           0.916159       0.967824        0.976649  \n",
              "6           0.969063       0.780098        0.778517  "
            ]
          },
          "execution_count": 27,
          "metadata": {},
          "output_type": "execute_result"
        }
      ],
      "source": [
        "results = performfinalresult(final_result)\n",
        "results.reset_index(drop = True)"
      ]
    },
    {
      "cell_type": "code",
      "execution_count": null,
      "id": "75417d6a",
      "metadata": {
        "id": "75417d6a",
        "outputId": "afc0a1a5-41bd-44a5-ab64-3e71163b29a8"
      },
      "outputs": [
        {
          "data": {
            "text/html": [
              "<div>\n",
              "<style scoped>\n",
              "    .dataframe tbody tr th:only-of-type {\n",
              "        vertical-align: middle;\n",
              "    }\n",
              "\n",
              "    .dataframe tbody tr th {\n",
              "        vertical-align: top;\n",
              "    }\n",
              "\n",
              "    .dataframe thead th {\n",
              "        text-align: right;\n",
              "    }\n",
              "</style>\n",
              "<table border=\"1\" class=\"dataframe\">\n",
              "  <thead>\n",
              "    <tr style=\"text-align: right;\">\n",
              "      <th></th>\n",
              "      <th>Training Time</th>\n",
              "      <th>Prediction Time</th>\n",
              "      <th>Accuracy : Test</th>\n",
              "      <th>Accuracy : Train</th>\n",
              "      <th>F1 Score : Test</th>\n",
              "      <th>F1 Score : Train</th>\n",
              "      <th>Precision : Test</th>\n",
              "      <th>Precision : Train</th>\n",
              "      <th>Recall : Test</th>\n",
              "      <th>Recall : Train</th>\n",
              "    </tr>\n",
              "  </thead>\n",
              "  <tbody>\n",
              "    <tr>\n",
              "      <th>min</th>\n",
              "      <td>0.005004</td>\n",
              "      <td>0.001511</td>\n",
              "      <td>0.840909</td>\n",
              "      <td>0.841955</td>\n",
              "      <td>0.863749</td>\n",
              "      <td>0.863402</td>\n",
              "      <td>0.886590</td>\n",
              "      <td>0.916159</td>\n",
              "      <td>0.780098</td>\n",
              "      <td>0.778517</td>\n",
              "    </tr>\n",
              "    <tr>\n",
              "      <th>max</th>\n",
              "      <td>35.576394</td>\n",
              "      <td>0.516163</td>\n",
              "      <td>0.973829</td>\n",
              "      <td>0.996832</td>\n",
              "      <td>0.979915</td>\n",
              "      <td>0.997534</td>\n",
              "      <td>0.974321</td>\n",
              "      <td>0.996146</td>\n",
              "      <td>0.987641</td>\n",
              "      <td>0.998926</td>\n",
              "    </tr>\n",
              "  </tbody>\n",
              "</table>\n",
              "</div>"
            ],
            "text/plain": [
              "     Training Time  Prediction Time  Accuracy : Test  Accuracy : Train  \\\n",
              "min       0.005004         0.001511         0.840909          0.841955   \n",
              "max      35.576394         0.516163         0.973829          0.996832   \n",
              "\n",
              "     F1 Score : Test  F1 Score : Train  Precision : Test  Precision : Train  \\\n",
              "min         0.863749          0.863402          0.886590           0.916159   \n",
              "max         0.979915          0.997534          0.974321           0.996146   \n",
              "\n",
              "     Recall : Test  Recall : Train  \n",
              "min       0.780098        0.778517  \n",
              "max       0.987641        0.998926  "
            ]
          },
          "execution_count": 28,
          "metadata": {},
          "output_type": "execute_result"
        }
      ],
      "source": [
        "results.describe().loc[['min', 'max'], :]"
      ]
    },
    {
      "cell_type": "markdown",
      "id": "e70a5edd",
      "metadata": {
        "id": "e70a5edd"
      },
      "source": [
        "Summary IN Graph"
      ]
    },
    {
      "cell_type": "code",
      "execution_count": null,
      "id": "21b31f2f",
      "metadata": {
        "id": "21b31f2f",
        "outputId": "b5288720-d9c8-4d0c-985d-ad42b574fdf7"
      },
      "outputs": [
        {
          "data": {
            "image/png": "[encoded data removed]",
            "text/plain": [
              "<Figure size 1500x600 with 1 Axes>"
            ]
          },
          "metadata": {},
          "output_type": "display_data"
        }
      ],
      "source": [
        "best_acc = results[results['Accuracy : Test'] == results['Accuracy : Test'].max()]\n",
        "best_f1 = results[results['F1 Score : Test'] == results['F1 Score : Test'].max()]\n",
        "best_precision = results[results['Precision : Test'] == results['Precision : Test'].max()]\n",
        "best_recall = results[results['Recall : Test'] == results['Recall : Test'].max()]\n",
        "\n",
        "sns.set_style('darkgrid')\n",
        "plt.figure(figsize = (15, 6))\n",
        "\n",
        "barWidth = 0.17\n",
        "\n",
        "# set height of bar\n",
        "bars1 = results['Accuracy : Test']\n",
        "bars2 = results['F1 Score : Test']\n",
        "\n",
        "# Set position of bar on X axis\n",
        "r1 = np.arange(len(bars1))\n",
        "r2 = [x + barWidth for x in r1]\n",
        "\n",
        "# Make the plot\n",
        "pal = sns.color_palette()\n",
        "plt.bar(r1, bars1, color= pal[0], width=barWidth, edgecolor='white', label='Test Accuracy')\n",
        "plt.bar(r2, bars2, color= pal[1], width=barWidth, edgecolor='white', label='Test F1 Score')\n",
        "\n",
        "# Add xticks on the middle of the group bars\n",
        "plt.xlabel('Algorithm', fontweight='bold', fontsize = 13)\n",
        "plt.ylabel('Score', fontweight = 'bold', fontsize = 13)\n",
        "plt.xticks([r + barWidth for r in range(len(bars1))], results['Algorithm'], rotation = 15, fontsize = 11)\n",
        "\n",
        "# Create legend & Show graphic\n",
        "plt.legend(fontsize = 13)\n",
        "\n",
        "textstr = '\\n'.join(['Best Accuracy: {:.3f} - {}'.format(best_acc['Accuracy : Test'].values[0], best_acc['Algorithm'].values[0]),\n",
        "                     'Best F1 Score: {:.3f} - {}'.format(best_f1['F1 Score : Test'].values[0], best_f1['Algorithm'].values[0])])\n",
        "props = dict(boxstyle='round', facecolor='lightgrey', alpha=0.5)\n",
        "\n",
        "plt.title('Classification Summary of Algorithms', fontweight = 'bold', fontsize = 17);"
      ]
    },
    {
      "cell_type": "markdown",
      "id": "8dd5e51e",
      "metadata": {
        "id": "8dd5e51e"
      },
      "source": [
        "Training and Prediction time of Algorithm"
      ]
    },
    {
      "cell_type": "code",
      "execution_count": null,
      "id": "b73123b2",
      "metadata": {
        "id": "b73123b2",
        "outputId": "d7f4a3ba-3b9d-4844-80a1-a117cad67519"
      },
      "outputs": [
        {
          "data": {
            "text/plain": [
              "Text(0.5, 1.0, 'Training and Prediction time of Algorithms')"
            ]
          },
          "execution_count": 30,
          "metadata": {},
          "output_type": "execute_result"
        },
        {
          "data": {
            "image/png": "[encoded data removed]",
            "text/plain": [
              "<Figure size 1200x700 with 1 Axes>"
            ]
          },
          "metadata": {},
          "output_type": "display_data"
        }
      ],
      "source": [
        "\n",
        "best_train_time = results[results['Training Time'] == results['Training Time'].min()]\n",
        "worst_train_time = results[results['Training Time'] == results['Training Time'].max()]\n",
        "best_prediction_time = results[results['Prediction Time'] == results['Prediction Time'].min()]\n",
        "worst_prediction_time = results[results['Prediction Time'] == results['Prediction Time'].max()]\n",
        "\n",
        "plt.figure(figsize = (12, 7))\n",
        "\n",
        "barWidth = 0.17\n",
        "\n",
        "# set height of bar\n",
        "bars1 = results['Training Time']\n",
        "bars2 = results['Prediction Time']\n",
        "\n",
        "# Set position of bar on X axis\n",
        "r1 = np.arange(len(bars1))\n",
        "r2 = [x + barWidth for x in r1]\n",
        "\n",
        "# Make the plot\n",
        "plt.bar(r1, bars1, color= pal[0], width=barWidth, edgecolor='white', label='Training Time')\n",
        "plt.bar(r2, bars2, color= pal[1], width=barWidth, edgecolor='white', label='Prediction Time')\n",
        "\n",
        "# Add xticks on the middle of the group bars\n",
        "plt.xlabel('Algorithm', fontweight='bold', fontsize = 13)\n",
        "plt.ylabel('Time (seconds)', fontweight = 'bold', fontsize = 13)\n",
        "plt.xticks([r + barWidth for r in range(len(bars1))], results['Algorithm'], rotation = 15, fontsize = 11)\n",
        "\n",
        "\n",
        "textstr = '\\n'.join(('Best Training Time: {:.3f} - {}'.format(best_train_time['Training Time'].values[0], best_train_time['Algorithm'].values[0]),\n",
        "                     'Worst Training Time: {:.3f} - {}'.format(worst_train_time['Training Time'].values[0], worst_train_time['Algorithm'].values[0]),\n",
        "                   'Best Prediction Time: {:.3f} - {}'.format(best_prediction_time['Training Time'].values[0], best_prediction_time['Algorithm'].values[0]),\n",
        "                    'Worst Prediction Time: {:.3f} - {}'.format(worst_prediction_time['Training Time'].values[0], worst_prediction_time['Algorithm'].values[0])))\n",
        "props = dict(boxstyle='round', facecolor='lightgrey', alpha=0.5)\n",
        "\n",
        "#place a text box\n",
        "plt.text(3.2, 12, textstr, fontsize=14,  bbox=props)\n",
        "\n",
        "# Create legend & Show graphic\n",
        "plt.legend(fontsize = 13)\n",
        "plt.title('Training and Prediction time of Algorithms', fontweight = 'bold', fontsize = 17)"
      ]
    },
    {
      "cell_type": "code",
      "execution_count": null,
      "id": "10cf4366",
      "metadata": {
        "id": "10cf4366",
        "outputId": "a63469f6-11b4-467b-ec90-c80c94d831dd"
      },
      "outputs": [
        {
          "data": {
            "text/html": [
              "<div>\n",
              "<style scoped>\n",
              "    .dataframe tbody tr th:only-of-type {\n",
              "        vertical-align: middle;\n",
              "    }\n",
              "\n",
              "    .dataframe tbody tr th {\n",
              "        vertical-align: top;\n",
              "    }\n",
              "\n",
              "    .dataframe thead th {\n",
              "        text-align: right;\n",
              "    }\n",
              "</style>\n",
              "<table border=\"1\" class=\"dataframe\">\n",
              "  <thead>\n",
              "    <tr style=\"text-align: right;\">\n",
              "      <th></th>\n",
              "      <th>headline</th>\n",
              "      <th>label</th>\n",
              "      <th>length_headline</th>\n",
              "    </tr>\n",
              "  </thead>\n",
              "  <tbody>\n",
              "    <tr>\n",
              "      <th>0</th>\n",
              "      <td>cock  suck before you piss around on my work</td>\n",
              "      <td>1</td>\n",
              "      <td>44</td>\n",
              "    </tr>\n",
              "    <tr>\n",
              "      <th>1</th>\n",
              "      <td>you are  gay or antisemmitian archangel white ...</td>\n",
              "      <td>1</td>\n",
              "      <td>624</td>\n",
              "    </tr>\n",
              "    <tr>\n",
              "      <th>2</th>\n",
              "      <td>fuck your filthy mother in the ass  dry</td>\n",
              "      <td>1</td>\n",
              "      <td>39</td>\n",
              "    </tr>\n",
              "    <tr>\n",
              "      <th>3</th>\n",
              "      <td>get fuck  ed up  get fuck  ed up got a drink t...</td>\n",
              "      <td>1</td>\n",
              "      <td>121</td>\n",
              "    </tr>\n",
              "    <tr>\n",
              "      <th>4</th>\n",
              "      <td>stupid peace of  shit  stop deleting my stuff ...</td>\n",
              "      <td>1</td>\n",
              "      <td>93</td>\n",
              "    </tr>\n",
              "  </tbody>\n",
              "</table>\n",
              "</div>"
            ],
            "text/plain": [
              "                                            headline  label  length_headline\n",
              "0       cock  suck before you piss around on my work      1               44\n",
              "1  you are  gay or antisemmitian archangel white ...      1              624\n",
              "2            fuck your filthy mother in the ass  dry      1               39\n",
              "3  get fuck  ed up  get fuck  ed up got a drink t...      1              121\n",
              "4  stupid peace of  shit  stop deleting my stuff ...      1               93"
            ]
          },
          "execution_count": 31,
          "metadata": {},
          "output_type": "execute_result"
        }
      ],
      "source": [
        "df.head()"
      ]
    },
    {
      "cell_type": "code",
      "execution_count": null,
      "id": "81a7e415",
      "metadata": {
        "id": "81a7e415",
        "outputId": "aa3a29d7-5dc5-4338-9a49-d8433adb2a6e"
      },
      "outputs": [
        {
          "name": "stdout",
          "output_type": "stream",
          "text": [
            "[0]\n",
            "non-bullying\n"
          ]
        },
        {
          "name": "stderr",
          "output_type": "stream",
          "text": [
            "c:\\Users\\WELCOME\\AppData\\Local\\Programs\\Python\\Python310\\lib\\site-packages\\sklearn\\feature_extraction\\text.py:408: UserWarning: Your stop_words may be inconsistent with your preprocessing. Tokenizing the stop words generated tokens ['ninad'] not in stop_words.\n",
            "  warnings.warn(\n"
          ]
        }
      ],
      "source": [
        "data = [\"You are so beautiful\"]\n",
        "\n",
        "tfidf_vector = TfidfVectorizer(stop_words=content_list, lowercase=True, vocabulary=pickle.load(open(\"tfidfvectoizer.pkl\", \"rb\")))\n",
        "preprocessed_data = tfidf_vector.fit_transform(data)\n",
        "\n",
        "trained_model = pickle.load(open('LinearSVC.pkl', 'rb'))\n",
        "print(trained_model.predict(preprocessed_data))\n",
        "\n",
        "if(trained_model.predict(preprocessed_data)==1):\n",
        "    print(\"bullying\")\n",
        "else:\n",
        "    print(\"non-bullying\")"
      ]
    },
    {
      "cell_type": "markdown",
      "id": "ea76c12d",
      "metadata": {
        "id": "ea76c12d"
      },
      "source": [
        "Fine Tuining"
      ]
    },
    {
      "cell_type": "code",
      "execution_count": null,
      "id": "f329da99",
      "metadata": {
        "id": "f329da99"
      },
      "outputs": [],
      "source": [
        "from sklearn.model_selection import GridSearchCV\n",
        "\n",
        "def tuning(clf, param_dict, X_train, y_train, X_test, y_test):\n",
        "    scorer = make_scorer(f1_score)\n",
        "\n",
        "    grid_obj = GridSearchCV(estimator=clf, param_grid=param_dict, scoring=scorer, cv=5)\n",
        "\n",
        "    grid_fit = grid_obj.fit(X_train, y_train)\n",
        "\n",
        "    best_clf = grid_fit.best_estimator_\n",
        "\n",
        "    prediction = (clf.fit(X_train, y_train)).predict(X_test)\n",
        "\n",
        "    best_prediction = best_clf.predict(X_test)\n",
        "\n",
        "    print(clf.__class__.__name__)\n",
        "    print(f\"Best Parameter:  {grid_fit.best_params_}\")\n",
        "\n",
        "    print(f\"Accuracy:  {accuracy_score(y_test, best_prediction)}\")\n",
        "\n",
        "    print(f\"F1 Score :  {f1_score(y_test, best_prediction)}\")\n",
        "\n",
        "    print(f\"Precision :  {precision_score(y_test, best_prediction)}\")\n",
        "\n",
        "    print(f\"Recall:  {recall_score(y_test, best_prediction)}\")"
      ]
    },
    {
      "cell_type": "code",
      "execution_count": null,
      "id": "b1e840dd",
      "metadata": {
        "id": "b1e840dd",
        "outputId": "1d6f55ab-76a7-45cb-9e0c-14e76a9c7064"
      },
      "outputs": [
        {
          "name": "stderr",
          "output_type": "stream",
          "text": [
            "c:\\Users\\WELCOME\\AppData\\Local\\Programs\\Python\\Python310\\lib\\site-packages\\sklearn\\svm\\_classes.py:31: FutureWarning: The default value of `dual` will change from `True` to `'auto'` in 1.5. Set the value of `dual` explicitly to suppress the warning.\n",
            "  warnings.warn(\n",
            "c:\\Users\\WELCOME\\AppData\\Local\\Programs\\Python\\Python310\\lib\\site-packages\\sklearn\\svm\\_classes.py:31: FutureWarning: The default value of `dual` will change from `True` to `'auto'` in 1.5. Set the value of `dual` explicitly to suppress the warning.\n",
            "  warnings.warn(\n",
            "c:\\Users\\WELCOME\\AppData\\Local\\Programs\\Python\\Python310\\lib\\site-packages\\sklearn\\svm\\_classes.py:31: FutureWarning: The default value of `dual` will change from `True` to `'auto'` in 1.5. Set the value of `dual` explicitly to suppress the warning.\n",
            "  warnings.warn(\n",
            "c:\\Users\\WELCOME\\AppData\\Local\\Programs\\Python\\Python310\\lib\\site-packages\\sklearn\\svm\\_classes.py:31: FutureWarning: The default value of `dual` will change from `True` to `'auto'` in 1.5. Set the value of `dual` explicitly to suppress the warning.\n",
            "  warnings.warn(\n",
            "c:\\Users\\WELCOME\\AppData\\Local\\Programs\\Python\\Python310\\lib\\site-packages\\sklearn\\svm\\_classes.py:31: FutureWarning: The default value of `dual` will change from `True` to `'auto'` in 1.5. Set the value of `dual` explicitly to suppress the warning.\n",
            "  warnings.warn(\n",
            "c:\\Users\\WELCOME\\AppData\\Local\\Programs\\Python\\Python310\\lib\\site-packages\\sklearn\\svm\\_classes.py:31: FutureWarning: The default value of `dual` will change from `True` to `'auto'` in 1.5. Set the value of `dual` explicitly to suppress the warning.\n",
            "  warnings.warn(\n",
            "c:\\Users\\WELCOME\\AppData\\Local\\Programs\\Python\\Python310\\lib\\site-packages\\sklearn\\svm\\_classes.py:31: FutureWarning: The default value of `dual` will change from `True` to `'auto'` in 1.5. Set the value of `dual` explicitly to suppress the warning.\n",
            "  warnings.warn(\n",
            "c:\\Users\\WELCOME\\AppData\\Local\\Programs\\Python\\Python310\\lib\\site-packages\\sklearn\\svm\\_classes.py:31: FutureWarning: The default value of `dual` will change from `True` to `'auto'` in 1.5. Set the value of `dual` explicitly to suppress the warning.\n",
            "  warnings.warn(\n",
            "c:\\Users\\WELCOME\\AppData\\Local\\Programs\\Python\\Python310\\lib\\site-packages\\sklearn\\svm\\_classes.py:31: FutureWarning: The default value of `dual` will change from `True` to `'auto'` in 1.5. Set the value of `dual` explicitly to suppress the warning.\n",
            "  warnings.warn(\n",
            "c:\\Users\\WELCOME\\AppData\\Local\\Programs\\Python\\Python310\\lib\\site-packages\\sklearn\\svm\\_classes.py:31: FutureWarning: The default value of `dual` will change from `True` to `'auto'` in 1.5. Set the value of `dual` explicitly to suppress the warning.\n",
            "  warnings.warn(\n",
            "c:\\Users\\WELCOME\\AppData\\Local\\Programs\\Python\\Python310\\lib\\site-packages\\sklearn\\svm\\_classes.py:31: FutureWarning: The default value of `dual` will change from `True` to `'auto'` in 1.5. Set the value of `dual` explicitly to suppress the warning.\n",
            "  warnings.warn(\n",
            "c:\\Users\\WELCOME\\AppData\\Local\\Programs\\Python\\Python310\\lib\\site-packages\\sklearn\\svm\\_classes.py:31: FutureWarning: The default value of `dual` will change from `True` to `'auto'` in 1.5. Set the value of `dual` explicitly to suppress the warning.\n",
            "  warnings.warn(\n",
            "c:\\Users\\WELCOME\\AppData\\Local\\Programs\\Python\\Python310\\lib\\site-packages\\sklearn\\svm\\_classes.py:31: FutureWarning: The default value of `dual` will change from `True` to `'auto'` in 1.5. Set the value of `dual` explicitly to suppress the warning.\n",
            "  warnings.warn(\n",
            "c:\\Users\\WELCOME\\AppData\\Local\\Programs\\Python\\Python310\\lib\\site-packages\\sklearn\\svm\\_classes.py:31: FutureWarning: The default value of `dual` will change from `True` to `'auto'` in 1.5. Set the value of `dual` explicitly to suppress the warning.\n",
            "  warnings.warn(\n",
            "c:\\Users\\WELCOME\\AppData\\Local\\Programs\\Python\\Python310\\lib\\site-packages\\sklearn\\svm\\_classes.py:31: FutureWarning: The default value of `dual` will change from `True` to `'auto'` in 1.5. Set the value of `dual` explicitly to suppress the warning.\n",
            "  warnings.warn(\n",
            "c:\\Users\\WELCOME\\AppData\\Local\\Programs\\Python\\Python310\\lib\\site-packages\\sklearn\\svm\\_classes.py:31: FutureWarning: The default value of `dual` will change from `True` to `'auto'` in 1.5. Set the value of `dual` explicitly to suppress the warning.\n",
            "  warnings.warn(\n",
            "c:\\Users\\WELCOME\\AppData\\Local\\Programs\\Python\\Python310\\lib\\site-packages\\sklearn\\svm\\_classes.py:31: FutureWarning: The default value of `dual` will change from `True` to `'auto'` in 1.5. Set the value of `dual` explicitly to suppress the warning.\n",
            "  warnings.warn(\n",
            "c:\\Users\\WELCOME\\AppData\\Local\\Programs\\Python\\Python310\\lib\\site-packages\\sklearn\\svm\\_classes.py:31: FutureWarning: The default value of `dual` will change from `True` to `'auto'` in 1.5. Set the value of `dual` explicitly to suppress the warning.\n",
            "  warnings.warn(\n",
            "c:\\Users\\WELCOME\\AppData\\Local\\Programs\\Python\\Python310\\lib\\site-packages\\sklearn\\svm\\_classes.py:31: FutureWarning: The default value of `dual` will change from `True` to `'auto'` in 1.5. Set the value of `dual` explicitly to suppress the warning.\n",
            "  warnings.warn(\n",
            "c:\\Users\\WELCOME\\AppData\\Local\\Programs\\Python\\Python310\\lib\\site-packages\\sklearn\\svm\\_classes.py:31: FutureWarning: The default value of `dual` will change from `True` to `'auto'` in 1.5. Set the value of `dual` explicitly to suppress the warning.\n",
            "  warnings.warn(\n",
            "c:\\Users\\WELCOME\\AppData\\Local\\Programs\\Python\\Python310\\lib\\site-packages\\sklearn\\svm\\_classes.py:31: FutureWarning: The default value of `dual` will change from `True` to `'auto'` in 1.5. Set the value of `dual` explicitly to suppress the warning.\n",
            "  warnings.warn(\n",
            "c:\\Users\\WELCOME\\AppData\\Local\\Programs\\Python\\Python310\\lib\\site-packages\\sklearn\\svm\\_classes.py:31: FutureWarning: The default value of `dual` will change from `True` to `'auto'` in 1.5. Set the value of `dual` explicitly to suppress the warning.\n",
            "  warnings.warn(\n",
            "c:\\Users\\WELCOME\\AppData\\Local\\Programs\\Python\\Python310\\lib\\site-packages\\sklearn\\svm\\_classes.py:31: FutureWarning: The default value of `dual` will change from `True` to `'auto'` in 1.5. Set the value of `dual` explicitly to suppress the warning.\n",
            "  warnings.warn(\n",
            "c:\\Users\\WELCOME\\AppData\\Local\\Programs\\Python\\Python310\\lib\\site-packages\\sklearn\\svm\\_classes.py:31: FutureWarning: The default value of `dual` will change from `True` to `'auto'` in 1.5. Set the value of `dual` explicitly to suppress the warning.\n",
            "  warnings.warn(\n",
            "c:\\Users\\WELCOME\\AppData\\Local\\Programs\\Python\\Python310\\lib\\site-packages\\sklearn\\svm\\_classes.py:31: FutureWarning: The default value of `dual` will change from `True` to `'auto'` in 1.5. Set the value of `dual` explicitly to suppress the warning.\n",
            "  warnings.warn(\n"
          ]
        },
        {
          "name": "stdout",
          "output_type": "stream",
          "text": [
            "LinearSVC\n",
            "Best Parameter:  {'C': 1}\n",
            "Accuracy:  0.9644628099173553\n",
            "F1 Score :  0.9724829351535836\n",
            "Precision :  0.9735212470638479\n",
            "Recall:  0.9714468357127637\n"
          ]
        },
        {
          "name": "stderr",
          "output_type": "stream",
          "text": [
            "c:\\Users\\WELCOME\\AppData\\Local\\Programs\\Python\\Python310\\lib\\site-packages\\sklearn\\svm\\_classes.py:31: FutureWarning: The default value of `dual` will change from `True` to `'auto'` in 1.5. Set the value of `dual` explicitly to suppress the warning.\n",
            "  warnings.warn(\n",
            "c:\\Users\\WELCOME\\AppData\\Local\\Programs\\Python\\Python310\\lib\\site-packages\\sklearn\\svm\\_classes.py:31: FutureWarning: The default value of `dual` will change from `True` to `'auto'` in 1.5. Set the value of `dual` explicitly to suppress the warning.\n",
            "  warnings.warn(\n"
          ]
        }
      ],
      "source": [
        "param_grid = {\n",
        "    'C': [0.25, 0.5, 0.75, 1, 1.2]\n",
        "}\n",
        "\n",
        "clf_model = LinearSVC()\n",
        "\n",
        "tuning(clf_model, param_grid, training_data, y_train, testing_data, y_test)"
      ]
    },
    {
      "cell_type": "code",
      "execution_count": null,
      "id": "a3d26638",
      "metadata": {
        "id": "a3d26638"
      },
      "outputs": [],
      "source": [
        "pickle.dump(clf_model, open(\"LinearSVCTuned.pkl\", \"wb\"))"
      ]
    }
  ],
  "metadata": {
    "kernelspec": {
      "display_name": "Python 3",
      "language": "python",
      "name": "python3"
    },
    "language_info": {
      "codemirror_mode": {
        "name": "ipython",
        "version": 3
      },
      "file_extension": ".py",
      "mimetype": "text/x-python",
      "name": "python",
      "nbconvert_exporter": "python",
      "pygments_lexer": "ipython3",
      "version": "3.10.5"
    },
    "colab": {
      "provenance": [],
      "include_colab_link": true
    }
  },
  "nbformat": 4,
  "nbformat_minor": 5
}